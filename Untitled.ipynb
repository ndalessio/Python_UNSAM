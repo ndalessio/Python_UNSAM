{
 "cells": [
  {
   "cell_type": "code",
   "execution_count": 17,
   "metadata": {},
   "outputs": [
    {
     "name": "stdout",
     "output_type": "stream",
     "text": [
      "lapalapa\n"
     ]
    }
   ],
   "source": [
    "# geringoso.py\n",
    "# Ejercicio 1.18\n",
    "# Egon Ivan Rost\n",
    "\n",
    "cadena = 'lala'\n",
    "capadepenapa = ''\n",
    "for c in cadena:\t\n",
    "    if (c=='a'):\n",
    "        capadepenapa=capadepenapa+c+'pa'\n",
    "    elif (c=='e'):\n",
    "        capadepenapa=capadepenapa+c+'pe'\n",
    "    elif (c=='i'):\n",
    "        capadepenapa=capadepenapa+c+'pi'\n",
    "    elif (c=='o'):\n",
    "        capadepenapa=capadepenapa+c+'po'\n",
    "    elif (c=='u'):\n",
    "        capadepenapa=capadepenapa+c+'pu'\n",
    "    else:\n",
    "        capadepenapa=capadepenapa+c\n",
    "print(capadepenapa)"
   ]
  },
  {
   "cell_type": "code",
   "execution_count": 12,
   "metadata": {},
   "outputs": [
    {
     "name": "stdout",
     "output_type": "stream",
     "text": [
      "cipiupudapad"
     ]
    }
   ],
   "source": [
    "cadena = 'ciudad'\n",
    "capadepenapa = ''\n",
    "vocales = \"aeiou\"\n",
    "\n",
    "for c in cadena: \n",
    "    for vocal in vocales:\n",
    "        if c == vocal:\n",
    "            c = c.replace(vocal, vocal + 'p' + vocal)\n",
    "    capadepenapa = capadepenapa + c\n",
    "    print(c, end='')"
   ]
  }
 ],
 "metadata": {
  "kernelspec": {
   "display_name": "Python 3.7.6 64-bit ('base': conda)",
   "language": "python",
   "name": "python37664bitbasecondab80094cdf1ac4a85959b2861f853e4e0"
  },
  "language_info": {
   "codemirror_mode": {
    "name": "ipython",
    "version": 3
   },
   "file_extension": ".py",
   "mimetype": "text/x-python",
   "name": "python",
   "nbconvert_exporter": "python",
   "pygments_lexer": "ipython3",
   "version": "3.7.6"
  }
 },
 "nbformat": 4,
 "nbformat_minor": 4
}
