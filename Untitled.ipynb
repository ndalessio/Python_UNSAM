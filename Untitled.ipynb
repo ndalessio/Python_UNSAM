{
 "cells": [
  {
   "cell_type": "code",
   "execution_count": 302,
   "metadata": {},
   "outputs": [],
   "source": [
    "import random\n",
    "\n",
    "def mezclo_y_reparto():\n",
    "    valores = [1, 2, 3, 4, 5, 6, 7, 10, 11, 12]\n",
    "    palos = ['oro', 'copa', 'basto', 'espada']\n",
    "    naipes = [(valor,palo) for valor in valores for palo in palos]\n",
    "    random.shuffle(naipes)\n",
    "    mano = naipes[-3:]\n",
    "    \n",
    "    return mano"
   ]
  },
  {
   "cell_type": "code",
   "execution_count": 313,
   "metadata": {},
   "outputs": [],
   "source": [
    "def envido(mano):\n",
    "    tengo = {'oro': [], 'copa': [], 'basto': [], 'espada': []}\n",
    "    tantos = 0\n",
    "    n_envido = [4,5,6,7] #números con los que puedo hacer envido 30,31,32\n",
    "\n",
    "    for carta in mano:\n",
    "        if carta[1] in tengo:\n",
    "            tengo[carta[1]].append(carta[0])\n",
    "            \n",
    "    for juego in tengo:\n",
    "        if (len(tengo[juego]) == 2) and (min(tengo[juego]) >= 4) and (max(tengo[juego]) <= 7):\n",
    "            tantos = sum(tengo[juego]) + 20\n",
    "        \n",
    "        elif(len(tengo[juego]) > 2) and (min(tengo[juego]) >= 4) and (max(tengo[juego]) <= 7):\n",
    "            tantos = sum(tengo[juego]) + 20 - min(tengo[juego])\n",
    "    \n",
    "    if tantos > 30 and tantos < 34:\n",
    "        return True\n",
    "    else:\n",
    "        return False"
   ]
  },
  {
   "cell_type": "code",
   "execution_count": 314,
   "metadata": {},
   "outputs": [
    {
     "data": {
      "text/plain": [
       "True"
      ]
     },
     "execution_count": 314,
     "metadata": {},
     "output_type": "execute_result"
    }
   ],
   "source": [
    "envido(mano)"
   ]
  },
  {
   "cell_type": "code",
   "execution_count": 317,
   "metadata": {},
   "outputs": [
    {
     "name": "stdout",
     "output_type": "stream",
     "text": [
      "Tiré 1000000 veces, de las cuales 49761 saqué 31, 32 o 33.\n",
      "Podemos estimar la probabilidad de sacar un envido con esos tantos es de 0.049761.\n"
     ]
    }
   ],
   "source": [
    "N = 10\n",
    "G = sum([envido(mezclo_y_reparto()) for i in range(N)])\n",
    "prob = G/N\n",
    "print(f'Tiré {N} veces, de las cuales {G} saqué 31, 32 o 33.')\n",
    "print(f'Podemos estimar la probabilidad de sacar un envido con esos tantos es de {prob:.6f}.')"
   ]
  },
  {
   "cell_type": "code",
   "execution_count": null,
   "metadata": {},
   "outputs": [],
   "source": []
  },
  {
   "cell_type": "code",
   "execution_count": null,
   "metadata": {},
   "outputs": [],
   "source": []
  },
  {
   "cell_type": "code",
   "execution_count": null,
   "metadata": {},
   "outputs": [],
   "source": []
  }
 ],
 "metadata": {
  "kernelspec": {
   "display_name": "Python 3.7.6 64-bit ('base': conda)",
   "language": "python",
   "name": "python37664bitbasecondab80094cdf1ac4a85959b2861f853e4e0"
  },
  "language_info": {
   "codemirror_mode": {
    "name": "ipython",
    "version": 3
   },
   "file_extension": ".py",
   "mimetype": "text/x-python",
   "name": "python",
   "nbconvert_exporter": "python",
   "pygments_lexer": "ipython3",
   "version": "3.7.6"
  }
 },
 "nbformat": 4,
 "nbformat_minor": 4
}
