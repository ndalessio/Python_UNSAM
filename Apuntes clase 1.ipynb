{
 "cells": [
  {
   "cell_type": "markdown",
   "metadata": {},
   "source": [
    "# Clase 1 "
   ]
  },
  {
   "cell_type": "code",
   "execution_count": 1,
   "metadata": {},
   "outputs": [
    {
     "name": "stdout",
     "output_type": "stream",
     "text": [
      "Cantidad de días:  21\n",
      "Cantidad de billetes:  1048576\n",
      "Altura final:  104.8576\n"
     ]
    }
   ],
   "source": [
    "grosor_billete = 0.1 * 0.001\n",
    "altura_obelisco = 67.5\n",
    "num_billetes = 1\n",
    "dia = 1\n",
    "\n",
    "while grosor_billete * num_billetes <= altura_obelisco:\n",
    "    dia = dia + 1\n",
    "    num_billetes = num_billetes * 2\n",
    "\n",
    "print('Cantidad de días: ', dia)\n",
    "print('Cantidad de billetes: ', num_billetes)\n",
    "print('Altura final: ', num_billetes * grosor_billete)\n"
   ]
  },
  {
   "cell_type": "code",
   "execution_count": 6,
   "metadata": {},
   "outputs": [
    {
     "name": "stdout",
     "output_type": "stream",
     "text": [
      "¿Cuál es tu nombre?noeli\n",
      "Hola noeli\n"
     ]
    }
   ],
   "source": [
    "nombre = input(\"¿Cuál es tu nombre?\")\n",
    "print(\"Hola\", nombre)"
   ]
  },
  {
   "cell_type": "markdown",
   "metadata": {},
   "source": [
    "#### Ejercicio 1.5: La pelota que rebota\n",
    "Una pelota de goma es arrojada desde una altura de 100 metros y cada vez que toca el piso salta 3/5 de la altura desde la que cayó. Escribí un programa rebotes.py que imprima una tabla mostrando las alturas que alcanza en cada uno de sus primeros diez rebotes."
   ]
  },
  {
   "cell_type": "code",
   "execution_count": 2,
   "metadata": {},
   "outputs": [
    {
     "name": "stdout",
     "output_type": "stream",
     "text": [
      "0 100\n",
      "1 60.0\n",
      "2 36.0\n",
      "3 21.6\n",
      "4 12.96\n",
      "5 7.776\n",
      "6 4.6656\n",
      "7 2.7994\n",
      "8 1.6796\n",
      "9 1.0078\n",
      "10 0.6047\n"
     ]
    }
   ],
   "source": [
    "altura = 100\n",
    "contador = 0\n",
    "\n",
    "while contador <= 10:\n",
    "    print(contador, round(altura, 4))\n",
    "    altura = altura * 0.6\n",
    "    contador = contador + 1"
   ]
  },
  {
   "cell_type": "markdown",
   "metadata": {},
   "source": [
    "#### Ejercicio 1.6: Saludos\n",
    "Escribí un programa llamado saludo.py que pregunte el nombre de le usuarie, imprima un saludo (por ejemplo, \"Hola, Juana\") y termine."
   ]
  },
  {
   "cell_type": "markdown",
   "metadata": {},
   "source": [
    "#### Ejercicio 1.7: La hipoteca de David\n",
    "David solicitó un crédito a 30 años para comprar una vivienda, con una tasa fija nominal anual del 5%. Pidió $500000 al banco y acordó un pago mensual fijo de $2684,11.\n",
    "El siguiente es un programa que calcula el monto total que pagará David a lo largo de los años:"
   ]
  },
  {
   "cell_type": "code",
   "execution_count": 2,
   "metadata": {},
   "outputs": [
    {
     "name": "stdout",
     "output_type": "stream",
     "text": [
      "Total pagado 966279.6\n"
     ]
    }
   ],
   "source": [
    "saldo = 500000.0\n",
    "tasa = 0.05\n",
    "pago_mensual = 2684.11\n",
    "total_pagado = 0.0\n",
    "\n",
    "while saldo > 0:\n",
    "    saldo = saldo * (1+tasa/12) - pago_mensual\n",
    "    total_pagado = total_pagado + pago_mensual\n",
    "\n",
    "print('Total pagado', round(total_pagado, 2))"
   ]
  },
  {
   "cell_type": "markdown",
   "metadata": {},
   "source": [
    "#### Ejercicio 1.8: Adelantos\n",
    "Supongamos que David adelanta pagos extra de $1000/mes durante los primeros 12 meses de la hipoteca.\n",
    "\n",
    "Modificá el programa para incorporar estos pagos extra y que imprima el monto total pagado junto con la cantidad de meses requeridos.\n",
    "\n",
    "Cuando lo corras, este nuevo programa debería dar un pago total de 929965.62 en 342 meses.\n",
    "\n",
    "Aclaración: aunque puede parecer sencillo, este ejercicio requiere que agregues una variable mes y que prestes bastante atención a cuándo la incrementás, con qué valor entra al ciclo y con qué valor sale del ciclo. Una posiblidad es inicializar mes en 0 y otra es inicializarla en 1. En el primer caso es problable que la variable salga del ciclo contando la cantidad de pagos que se hicieron, en el segundo, ¡es probable que salga contando la cantidad de pagos más uno!"
   ]
  },
  {
   "cell_type": "code",
   "execution_count": 20,
   "metadata": {},
   "outputs": [
    {
     "name": "stdout",
     "output_type": "stream",
     "text": [
      "Total pagado 912597.4 en 340 meses\n"
     ]
    }
   ],
   "source": [
    "saldo = 500000.0\n",
    "tasa = 0.05\n",
    "pago_mensual = 2684.11\n",
    "total_pagado = 0.0\n",
    "mes = 0\n",
    "\n",
    "while saldo > 0:\n",
    "    if mes <= 12:\n",
    "        saldo = saldo * (1+tasa/12) - (pago_mensual + 1000)\n",
    "    else:\n",
    "        saldo = saldo * (1+tasa/12) - pago_mensual \n",
    "        \n",
    "    total_pagado = total_pagado + pago_mensual\n",
    "    mes = mes + 1\n",
    "\n",
    "print('Total pagado', round(total_pagado, 2), 'en', mes, 'meses')"
   ]
  },
  {
   "cell_type": "markdown",
   "metadata": {},
   "source": [
    "#### Ejercicio 1.9: Calculadora de adelantos\n",
    "¿Cuánto pagaría David si agrega $1000 por mes durante cuatro años, comenzando en el sexto año de la hipoteca (es decir, luego de 5 años)?\n",
    "\n",
    "Modificá tu programa de forma que la información sobre pagos extras sea incorporada de manera versatil. Agregá las siguientes variables antes del ciclo, para definir el comienzo, fin y monto de los pagos extras:"
   ]
  },
  {
   "cell_type": "code",
   "execution_count": 24,
   "metadata": {},
   "outputs": [
    {
     "name": "stdout",
     "output_type": "stream",
     "text": [
      "Total pagado 880074.1 en 310 meses\n"
     ]
    }
   ],
   "source": [
    "saldo = 500000.0\n",
    "tasa = 0.05\n",
    "pago_mensual = 2684.11\n",
    "total_pagado = 0.0\n",
    "pago_extra_mes_comienzo = 61\n",
    "pago_extra_mes_fin = 108\n",
    "pago_extra = 1000\n",
    "mes = 0\n",
    "\n",
    "while saldo > 0:\n",
    "    if mes >= pago_extra_mes_comienzo and  mes <= pago_extra_mes_fin:\n",
    "        saldo = saldo * (1+tasa/12) - (pago_mensual + pago_extra)\n",
    "        total_pagado = total_pagado + pago_mensual + pago_extra\n",
    "    else:\n",
    "        saldo = saldo * (1+tasa/12) - pago_mensual\n",
    "        total_pagado = total_pagado + pago_mensual\n",
    "        \n",
    "    \n",
    "    mes = mes + 1\n",
    "\n",
    "print('Total pagado', round(total_pagado, 2), 'en', mes, 'meses')"
   ]
  },
  {
   "cell_type": "markdown",
   "metadata": {},
   "source": [
    "#### Ejercicio 1.10: Tablas\n",
    "Modicá tu programa para que imprima una tabla mostrando el mes, el total pagado hasta el momento y el saldo restante.\n",
    "\n",
    "Debería dar:\n",
    "Total pagado:  880074.1\n",
    "Meses:  310"
   ]
  },
  {
   "cell_type": "code",
   "execution_count": 29,
   "metadata": {},
   "outputs": [
    {
     "name": "stdout",
     "output_type": "stream",
     "text": [
      "1 2684.11 499399.22\n",
      "2 5368.22 498795.94\n",
      "3 8052.33 498190.15\n",
      "4 10736.44 497581.83\n",
      "5 13420.55 496970.98\n",
      "6 16104.66 496357.58\n",
      "7 18788.77 495741.63\n",
      "8 21472.88 495123.11\n",
      "9 24156.99 494502.01\n",
      "10 26841.1 493878.33\n",
      "11 29525.21 493252.04\n",
      "12 32209.32 492623.15\n",
      "13 34893.43 491991.64\n",
      "14 37577.54 491357.49\n",
      "15 40261.65 490720.7\n",
      "16 42945.76 490081.26\n",
      "17 45629.87 489439.16\n",
      "18 48313.98 488794.38\n",
      "19 50998.09 488146.91\n",
      "20 53682.2 487496.75\n",
      "21 56366.31 486843.87\n",
      "22 59050.42 486188.28\n",
      "23 61734.53 485529.96\n",
      "24 64418.64 484868.89\n",
      "25 67102.75 484205.06\n",
      "26 69786.86 483538.47\n",
      "27 72470.97 482869.11\n",
      "28 75155.08 482196.95\n",
      "29 77839.19 481522.0\n",
      "30 80523.3 480844.23\n",
      "31 83207.41 480163.64\n",
      "32 85891.52 479480.21\n",
      "33 88575.63 478793.93\n",
      "34 91259.74 478104.8\n",
      "35 93943.85 477412.79\n",
      "36 96627.96 476717.9\n",
      "37 99312.07 476020.11\n",
      "38 101996.18 475319.42\n",
      "39 104680.29 474615.81\n",
      "40 107364.4 473909.27\n",
      "41 110048.51 473199.78\n",
      "42 112732.62 472487.33\n",
      "43 115416.73 471771.92\n",
      "44 118100.84 471053.53\n",
      "45 120784.95 470332.14\n",
      "46 123469.06 469607.75\n",
      "47 126153.17 468880.34\n",
      "48 128837.28 468149.89\n",
      "49 131521.39 467416.41\n",
      "50 134205.5 466679.87\n",
      "51 136889.61 465940.26\n",
      "52 139573.72 465197.56\n",
      "53 142257.83 464451.78\n",
      "54 144941.94 463702.88\n",
      "55 147626.05 462950.87\n",
      "56 150310.16 462195.72\n",
      "57 152994.27 461437.43\n",
      "58 155678.38 460675.97\n",
      "59 158362.49 459911.34\n",
      "60 161046.6 459143.53\n",
      "61 163730.71 458372.52\n",
      "62 167414.82 456598.3\n",
      "63 171098.93 454816.68\n",
      "64 174783.04 453027.64\n",
      "65 178467.15 451231.14\n",
      "66 182151.26 449427.16\n",
      "67 185835.37 447615.67\n",
      "68 189519.48 445796.62\n",
      "69 193203.59 443970.0\n",
      "70 196887.7 442135.76\n",
      "71 200571.81 440293.88\n",
      "72 204255.92 438444.33\n",
      "73 207940.03 436587.07\n",
      "74 211624.14 434722.08\n",
      "75 215308.25 432849.31\n",
      "76 218992.36 430968.74\n",
      "77 222676.47 429080.33\n",
      "78 226360.58 427184.06\n",
      "79 230044.69 425279.88\n",
      "80 233728.8 423367.77\n",
      "81 237412.91 421447.69\n",
      "82 241097.02 419519.61\n",
      "83 244781.13 417583.5\n",
      "84 248465.24 415639.32\n",
      "85 252149.35 413687.04\n",
      "86 255833.46 411726.63\n",
      "87 259517.57 409758.05\n",
      "88 263201.68 407781.26\n",
      "89 266885.79 405796.24\n",
      "90 270569.9 403802.95\n",
      "91 274254.01 401801.35\n",
      "92 277938.12 399791.41\n",
      "93 281622.23 397773.1\n",
      "94 285306.34 395746.38\n",
      "95 288990.45 393711.21\n",
      "96 292674.56 391667.56\n",
      "97 296358.67 389615.4\n",
      "98 300042.78 387554.69\n",
      "99 303726.89 385485.39\n",
      "100 307411.0 383407.47\n",
      "101 311095.11 381320.89\n",
      "102 314779.22 379225.62\n",
      "103 318463.33 377121.62\n",
      "104 322147.44 375008.85\n",
      "105 325831.55 372887.27\n",
      "106 329515.66 370756.86\n",
      "107 333199.77 368617.57\n",
      "108 336883.88 366469.37\n",
      "109 340567.99 364312.21\n",
      "110 343252.1 363146.07\n",
      "111 345936.21 361975.07\n",
      "112 348620.32 360799.19\n",
      "113 351304.43 359618.41\n",
      "114 353988.54 358432.71\n",
      "115 356672.65 357242.07\n",
      "116 359356.76 356046.47\n",
      "117 362040.87 354845.88\n",
      "118 364724.98 353640.3\n",
      "119 367409.09 352429.69\n",
      "120 370093.2 351214.04\n",
      "121 372777.31 349993.32\n",
      "122 375461.42 348767.51\n",
      "123 378145.53 347536.6\n",
      "124 380829.64 346300.56\n",
      "125 383513.75 345059.37\n",
      "126 386197.86 343813.01\n",
      "127 388881.97 342561.45\n",
      "128 391566.08 341304.68\n",
      "129 394250.19 340042.67\n",
      "130 396934.3 338775.41\n",
      "131 399618.41 337502.86\n",
      "132 402302.52 336225.01\n",
      "133 404986.63 334941.84\n",
      "134 407670.74 333653.32\n",
      "135 410354.85 332359.43\n",
      "136 413038.96 331060.16\n",
      "137 415723.07 329755.46\n",
      "138 418407.18 328445.33\n",
      "139 421091.29 327129.75\n",
      "140 423775.4 325808.68\n",
      "141 426459.51 324482.1\n",
      "142 429143.62 323150.0\n",
      "143 431827.73 321812.35\n",
      "144 434511.84 320469.12\n",
      "145 437195.95 319120.3\n",
      "146 439880.06 317765.86\n",
      "147 442564.17 316405.77\n",
      "148 445248.28 315040.02\n",
      "149 447932.39 313668.58\n",
      "150 450616.5 312291.42\n",
      "151 453300.61 310908.53\n",
      "152 455984.72 309519.87\n",
      "153 458668.83 308125.42\n",
      "154 461352.94 306725.17\n",
      "155 464037.05 305319.08\n",
      "156 466721.16 303907.13\n",
      "157 469405.27 302489.3\n",
      "158 472089.38 301065.57\n",
      "159 474773.49 299635.9\n",
      "160 477457.6 298200.27\n",
      "161 480141.71 296758.66\n",
      "162 482825.82 295311.04\n",
      "163 485509.93 293857.4\n",
      "164 488194.04 292397.69\n",
      "165 490878.15 290931.91\n",
      "166 493562.26 289460.01\n",
      "167 496246.37 287981.99\n",
      "168 498930.48 286497.8\n",
      "169 501614.59 285007.43\n",
      "170 504298.7 283510.85\n",
      "171 506982.81 282008.04\n",
      "172 509666.92 280498.96\n",
      "173 512351.03 278983.6\n",
      "174 515035.14 277461.92\n",
      "175 517719.25 275933.9\n",
      "176 520403.36 274399.52\n",
      "177 523087.47 272858.74\n",
      "178 525771.58 271311.54\n",
      "179 528455.69 269757.89\n",
      "180 531139.8 268197.77\n",
      "181 533823.91 266631.15\n",
      "182 536508.02 265058.01\n",
      "183 539192.13 263478.31\n",
      "184 541876.24 261892.02\n",
      "185 544560.35 260299.13\n",
      "186 547244.46 258699.6\n",
      "187 549928.57 257093.4\n",
      "188 552612.68 255480.52\n",
      "189 555296.79 253860.91\n",
      "190 557980.9 252234.55\n",
      "191 560665.01 250601.42\n",
      "192 563349.12 248961.48\n",
      "193 566033.23 247314.71\n",
      "194 568717.34 245661.08\n",
      "195 571401.45 244000.56\n",
      "196 574085.56 242333.12\n",
      "197 576769.67 240658.73\n",
      "198 579453.78 238977.36\n",
      "199 582137.89 237288.99\n",
      "200 584822.0 235593.59\n",
      "201 587506.11 233891.12\n",
      "202 590190.22 232181.55\n",
      "203 592874.33 230464.86\n",
      "204 595558.44 228741.03\n",
      "205 598242.55 227010.0\n",
      "206 600926.66 225271.77\n",
      "207 603610.77 223526.29\n",
      "208 606294.88 221773.54\n",
      "209 608978.99 220013.49\n",
      "210 611663.1 218246.1\n",
      "211 614347.21 216471.35\n",
      "212 617031.32 214689.2\n",
      "213 619715.43 212899.63\n",
      "214 622399.54 211102.6\n",
      "215 625083.65 209298.09\n",
      "216 627767.76 207486.05\n",
      "217 630451.87 205666.47\n",
      "218 633135.98 203839.3\n",
      "219 635820.09 202004.52\n",
      "220 638504.2 200162.1\n",
      "221 641188.31 198311.99\n",
      "222 643872.42 196454.18\n",
      "223 646556.53 194588.63\n",
      "224 649240.64 192715.31\n",
      "225 651924.75 190834.18\n",
      "226 654608.86 188945.21\n",
      "227 657292.97 187048.37\n",
      "228 659977.08 185143.63\n",
      "229 662661.19 183230.95\n",
      "230 665345.3 181310.31\n",
      "231 668029.41 179381.66\n",
      "232 670713.52 177444.97\n",
      "233 673397.63 175500.21\n",
      "234 676081.74 173547.35\n",
      "235 678765.85 171586.36\n",
      "236 681449.96 169617.19\n",
      "237 684134.07 167639.82\n",
      "238 686818.18 165654.21\n",
      "239 689502.29 163660.33\n",
      "240 692186.4 161658.13\n",
      "241 694870.51 159647.6\n",
      "242 697554.62 157628.69\n",
      "243 700238.73 155601.36\n",
      "244 702922.84 153565.59\n",
      "245 705606.95 151521.34\n",
      "246 708291.06 149468.57\n",
      "247 710975.17 147407.24\n",
      "248 713659.28 145337.33\n",
      "249 716343.39 143258.79\n",
      "250 719027.5 141171.59\n",
      "251 721711.61 139075.7\n",
      "252 724395.72 136971.07\n",
      "253 727079.83 134857.67\n",
      "254 729763.94 132735.47\n",
      "255 732448.05 130604.43\n",
      "256 735132.16 128464.5\n",
      "257 737816.27 126315.66\n",
      "258 740500.38 124157.86\n",
      "259 743184.49 121991.08\n",
      "260 745868.6 119815.27\n",
      "261 748552.71 117630.39\n",
      "262 751236.82 115436.4\n",
      "263 753920.93 113233.28\n",
      "264 756605.04 111020.97\n",
      "265 759289.15 108799.45\n",
      "266 761973.26 106568.67\n",
      "267 764657.37 104328.6\n",
      "268 767341.48 102079.19\n",
      "269 770025.59 99820.41\n",
      "270 772709.7 97552.22\n",
      "271 775393.81 95274.58\n",
      "272 778077.92 92987.44\n",
      "273 780762.03 90690.78\n",
      "274 783446.14 88384.55\n",
      "275 786130.25 86068.71\n",
      "276 788814.36 83743.22\n",
      "277 791498.47 81408.04\n",
      "278 794182.58 79063.13\n",
      "279 796866.69 76708.45\n",
      "280 799550.8 74343.96\n",
      "281 802234.91 71969.61\n",
      "282 804919.02 69585.38\n",
      "283 807603.13 67191.2\n",
      "284 810287.24 64787.06\n",
      "285 812971.35 62372.89\n",
      "286 815655.46 59948.67\n",
      "287 818339.57 57514.35\n",
      "288 821023.68 55069.88\n",
      "289 823707.79 52615.23\n",
      "290 826391.9 50150.35\n",
      "291 829076.01 47675.2\n",
      "292 831760.12 45189.74\n",
      "293 834444.23 42693.92\n",
      "294 837128.34 40187.7\n",
      "295 839812.45 37671.04\n",
      "296 842496.56 35143.89\n",
      "297 845180.67 32606.21\n",
      "298 847864.78 30057.96\n",
      "299 850548.89 27499.09\n",
      "300 853233.0 24929.56\n",
      "301 855917.11 22349.32\n",
      "302 858601.22 19758.34\n",
      "303 861285.33 17156.55\n",
      "304 863969.44 14543.93\n",
      "305 866653.55 11920.42\n",
      "306 869337.66 9285.98\n",
      "307 872021.77 6640.56\n",
      "308 874705.88 3984.12\n",
      "309 877389.99 1316.61\n",
      "310 880074.1 0\n",
      "Total pagado: 880074.1\n",
      "Meses: 310\n"
     ]
    }
   ],
   "source": [
    "saldo = 500000.0\n",
    "tasa = 0.05\n",
    "pago_mensual = 2684.11\n",
    "total_pagado = 0.0\n",
    "pago_extra_mes_comienzo = 61\n",
    "pago_extra_mes_fin = 108\n",
    "pago_extra = 1000\n",
    "mes = 0\n",
    "\n",
    "while saldo > 0:\n",
    "    if mes >= pago_extra_mes_comienzo and  mes <= pago_extra_mes_fin:\n",
    "        saldo = saldo * (1+tasa/12) - (pago_mensual + pago_extra)\n",
    "        total_pagado = total_pagado + pago_mensual + pago_extra\n",
    "    else:\n",
    "        saldo = saldo * (1+tasa/12) - pago_mensual\n",
    "        total_pagado = total_pagado + pago_mensual\n",
    "    if saldo <= 0:\n",
    "        saldo = 0\n",
    "        \n",
    "    mes = mes + 1\n",
    "    print(mes, round(total_pagado, 2), round(saldo, 2))\n",
    "\n",
    "print('Total pagado:', round(total_pagado, 2))\n",
    "print('Meses:', mes)\n"
   ]
  },
  {
   "cell_type": "markdown",
   "metadata": {},
   "source": [
    "#### Ejercicio 1.11: Bonus\n",
    "Ya que estamos, corregí el código anterior de forma que el pago del último mes se ajuste a lo adeudado."
   ]
  },
  {
   "cell_type": "code",
   "execution_count": 1,
   "metadata": {},
   "outputs": [
    {
     "name": "stdout",
     "output_type": "stream",
     "text": [
      "1 2684.11 499399.22\n",
      "2 5368.22 498795.94\n",
      "3 8052.33 498190.15\n",
      "4 10736.44 497581.83\n",
      "5 13420.55 496970.98\n",
      "6 16104.66 496357.58\n",
      "7 18788.77 495741.63\n",
      "8 21472.88 495123.11\n",
      "9 24156.99 494502.01\n",
      "10 26841.1 493878.33\n",
      "11 29525.21 493252.04\n",
      "12 32209.32 492623.15\n",
      "13 34893.43 491991.64\n",
      "14 37577.54 491357.49\n",
      "15 40261.65 490720.7\n",
      "16 42945.76 490081.26\n",
      "17 45629.87 489439.16\n",
      "18 48313.98 488794.38\n",
      "19 50998.09 488146.91\n",
      "20 53682.2 487496.75\n",
      "21 56366.31 486843.87\n",
      "22 59050.42 486188.28\n",
      "23 61734.53 485529.96\n",
      "24 64418.64 484868.89\n",
      "25 67102.75 484205.06\n",
      "26 69786.86 483538.47\n",
      "27 72470.97 482869.11\n",
      "28 75155.08 482196.95\n",
      "29 77839.19 481522.0\n",
      "30 80523.3 480844.23\n",
      "31 83207.41 480163.64\n",
      "32 85891.52 479480.21\n",
      "33 88575.63 478793.93\n",
      "34 91259.74 478104.8\n",
      "35 93943.85 477412.79\n",
      "36 96627.96 476717.9\n",
      "37 99312.07 476020.11\n",
      "38 101996.18 475319.42\n",
      "39 104680.29 474615.81\n",
      "40 107364.4 473909.27\n",
      "41 110048.51 473199.78\n",
      "42 112732.62 472487.33\n",
      "43 115416.73 471771.92\n",
      "44 118100.84 471053.53\n",
      "45 120784.95 470332.14\n",
      "46 123469.06 469607.75\n",
      "47 126153.17 468880.34\n",
      "48 128837.28 468149.89\n",
      "49 131521.39 467416.41\n",
      "50 134205.5 466679.87\n",
      "51 136889.61 465940.26\n",
      "52 139573.72 465197.56\n",
      "53 142257.83 464451.78\n",
      "54 144941.94 463702.88\n",
      "55 147626.05 462950.87\n",
      "56 150310.16 462195.72\n",
      "57 152994.27 461437.43\n",
      "58 155678.38 460675.97\n",
      "59 158362.49 459911.34\n",
      "60 161046.6 459143.53\n",
      "61 163730.71 458372.52\n",
      "62 167414.82 456598.3\n",
      "63 171098.93 454816.68\n",
      "64 174783.04 453027.64\n",
      "65 178467.15 451231.14\n",
      "66 182151.26 449427.16\n",
      "67 185835.37 447615.67\n",
      "68 189519.48 445796.62\n",
      "69 193203.59 443970.0\n",
      "70 196887.7 442135.76\n",
      "71 200571.81 440293.88\n",
      "72 204255.92 438444.33\n",
      "73 207940.03 436587.07\n",
      "74 211624.14 434722.08\n",
      "75 215308.25 432849.31\n",
      "76 218992.36 430968.74\n",
      "77 222676.47 429080.33\n",
      "78 226360.58 427184.06\n",
      "79 230044.69 425279.88\n",
      "80 233728.8 423367.77\n",
      "81 237412.91 421447.69\n",
      "82 241097.02 419519.61\n",
      "83 244781.13 417583.5\n",
      "84 248465.24 415639.32\n",
      "85 252149.35 413687.04\n",
      "86 255833.46 411726.63\n",
      "87 259517.57 409758.05\n",
      "88 263201.68 407781.26\n",
      "89 266885.79 405796.24\n",
      "90 270569.9 403802.95\n",
      "91 274254.01 401801.35\n",
      "92 277938.12 399791.41\n",
      "93 281622.23 397773.1\n",
      "94 285306.34 395746.38\n",
      "95 288990.45 393711.21\n",
      "96 292674.56 391667.56\n",
      "97 296358.67 389615.4\n",
      "98 300042.78 387554.69\n",
      "99 303726.89 385485.39\n",
      "100 307411.0 383407.47\n",
      "101 311095.11 381320.89\n",
      "102 314779.22 379225.62\n",
      "103 318463.33 377121.62\n",
      "104 322147.44 375008.85\n",
      "105 325831.55 372887.27\n",
      "106 329515.66 370756.86\n",
      "107 333199.77 368617.57\n",
      "108 336883.88 366469.37\n",
      "109 340567.99 364312.21\n",
      "110 343252.1 363146.07\n",
      "111 345936.21 361975.07\n",
      "112 348620.32 360799.19\n",
      "113 351304.43 359618.41\n",
      "114 353988.54 358432.71\n",
      "115 356672.65 357242.07\n",
      "116 359356.76 356046.47\n",
      "117 362040.87 354845.88\n",
      "118 364724.98 353640.3\n",
      "119 367409.09 352429.69\n",
      "120 370093.2 351214.04\n",
      "121 372777.31 349993.32\n",
      "122 375461.42 348767.51\n",
      "123 378145.53 347536.6\n",
      "124 380829.64 346300.56\n",
      "125 383513.75 345059.37\n",
      "126 386197.86 343813.01\n",
      "127 388881.97 342561.45\n",
      "128 391566.08 341304.68\n",
      "129 394250.19 340042.67\n",
      "130 396934.3 338775.41\n",
      "131 399618.41 337502.86\n",
      "132 402302.52 336225.01\n",
      "133 404986.63 334941.84\n",
      "134 407670.74 333653.32\n",
      "135 410354.85 332359.43\n",
      "136 413038.96 331060.16\n",
      "137 415723.07 329755.46\n",
      "138 418407.18 328445.33\n",
      "139 421091.29 327129.75\n",
      "140 423775.4 325808.68\n",
      "141 426459.51 324482.1\n",
      "142 429143.62 323150.0\n",
      "143 431827.73 321812.35\n",
      "144 434511.84 320469.12\n",
      "145 437195.95 319120.3\n",
      "146 439880.06 317765.86\n",
      "147 442564.17 316405.77\n",
      "148 445248.28 315040.02\n",
      "149 447932.39 313668.58\n",
      "150 450616.5 312291.42\n",
      "151 453300.61 310908.53\n",
      "152 455984.72 309519.87\n",
      "153 458668.83 308125.42\n",
      "154 461352.94 306725.17\n",
      "155 464037.05 305319.08\n",
      "156 466721.16 303907.13\n",
      "157 469405.27 302489.3\n",
      "158 472089.38 301065.57\n",
      "159 474773.49 299635.9\n",
      "160 477457.6 298200.27\n",
      "161 480141.71 296758.66\n",
      "162 482825.82 295311.04\n",
      "163 485509.93 293857.4\n",
      "164 488194.04 292397.69\n",
      "165 490878.15 290931.91\n",
      "166 493562.26 289460.01\n",
      "167 496246.37 287981.99\n",
      "168 498930.48 286497.8\n",
      "169 501614.59 285007.43\n",
      "170 504298.7 283510.85\n",
      "171 506982.81 282008.04\n",
      "172 509666.92 280498.96\n",
      "173 512351.03 278983.6\n",
      "174 515035.14 277461.92\n",
      "175 517719.25 275933.9\n",
      "176 520403.36 274399.52\n",
      "177 523087.47 272858.74\n",
      "178 525771.58 271311.54\n",
      "179 528455.69 269757.89\n",
      "180 531139.8 268197.77\n",
      "181 533823.91 266631.15\n",
      "182 536508.02 265058.01\n",
      "183 539192.13 263478.31\n",
      "184 541876.24 261892.02\n",
      "185 544560.35 260299.13\n",
      "186 547244.46 258699.6\n",
      "187 549928.57 257093.4\n",
      "188 552612.68 255480.52\n",
      "189 555296.79 253860.91\n",
      "190 557980.9 252234.55\n",
      "191 560665.01 250601.42\n",
      "192 563349.12 248961.48\n",
      "193 566033.23 247314.71\n",
      "194 568717.34 245661.08\n",
      "195 571401.45 244000.56\n",
      "196 574085.56 242333.12\n",
      "197 576769.67 240658.73\n",
      "198 579453.78 238977.36\n",
      "199 582137.89 237288.99\n",
      "200 584822.0 235593.59\n",
      "201 587506.11 233891.12\n",
      "202 590190.22 232181.55\n",
      "203 592874.33 230464.86\n",
      "204 595558.44 228741.03\n",
      "205 598242.55 227010.0\n",
      "206 600926.66 225271.77\n",
      "207 603610.77 223526.29\n",
      "208 606294.88 221773.54\n",
      "209 608978.99 220013.49\n",
      "210 611663.1 218246.1\n",
      "211 614347.21 216471.35\n",
      "212 617031.32 214689.2\n",
      "213 619715.43 212899.63\n",
      "214 622399.54 211102.6\n",
      "215 625083.65 209298.09\n",
      "216 627767.76 207486.05\n",
      "217 630451.87 205666.47\n",
      "218 633135.98 203839.3\n",
      "219 635820.09 202004.52\n",
      "220 638504.2 200162.1\n",
      "221 641188.31 198311.99\n",
      "222 643872.42 196454.18\n",
      "223 646556.53 194588.63\n",
      "224 649240.64 192715.31\n",
      "225 651924.75 190834.18\n",
      "226 654608.86 188945.21\n",
      "227 657292.97 187048.37\n",
      "228 659977.08 185143.63\n",
      "229 662661.19 183230.95\n",
      "230 665345.3 181310.31\n",
      "231 668029.41 179381.66\n",
      "232 670713.52 177444.97\n",
      "233 673397.63 175500.21\n",
      "234 676081.74 173547.35\n",
      "235 678765.85 171586.36\n",
      "236 681449.96 169617.19\n",
      "237 684134.07 167639.82\n",
      "238 686818.18 165654.21\n",
      "239 689502.29 163660.33\n",
      "240 692186.4 161658.13\n",
      "241 694870.51 159647.6\n",
      "242 697554.62 157628.69\n",
      "243 700238.73 155601.36\n",
      "244 702922.84 153565.59\n",
      "245 705606.95 151521.34\n",
      "246 708291.06 149468.57\n",
      "247 710975.17 147407.24\n",
      "248 713659.28 145337.33\n",
      "249 716343.39 143258.79\n",
      "250 719027.5 141171.59\n",
      "251 721711.61 139075.7\n",
      "252 724395.72 136971.07\n",
      "253 727079.83 134857.67\n",
      "254 729763.94 132735.47\n",
      "255 732448.05 130604.43\n",
      "256 735132.16 128464.5\n",
      "257 737816.27 126315.66\n",
      "258 740500.38 124157.86\n",
      "259 743184.49 121991.08\n",
      "260 745868.6 119815.27\n",
      "261 748552.71 117630.39\n",
      "262 751236.82 115436.4\n",
      "263 753920.93 113233.28\n",
      "264 756605.04 111020.97\n",
      "265 759289.15 108799.45\n",
      "266 761973.26 106568.67\n",
      "267 764657.37 104328.6\n",
      "268 767341.48 102079.19\n",
      "269 770025.59 99820.41\n",
      "270 772709.7 97552.22\n",
      "271 775393.81 95274.58\n",
      "272 778077.92 92987.44\n",
      "273 780762.03 90690.78\n",
      "274 783446.14 88384.55\n",
      "275 786130.25 86068.71\n",
      "276 788814.36 83743.22\n",
      "277 791498.47 81408.04\n",
      "278 794182.58 79063.13\n",
      "279 796866.69 76708.45\n",
      "280 799550.8 74343.96\n",
      "281 802234.91 71969.61\n",
      "282 804919.02 69585.38\n",
      "283 807603.13 67191.2\n",
      "284 810287.24 64787.06\n",
      "285 812971.35 62372.89\n",
      "286 815655.46 59948.67\n",
      "287 818339.57 57514.35\n",
      "288 821023.68 55069.88\n",
      "289 823707.79 52615.23\n",
      "290 826391.9 50150.35\n",
      "291 829076.01 47675.2\n",
      "292 831760.12 45189.74\n",
      "293 834444.23 42693.92\n",
      "294 837128.34 40187.7\n",
      "295 839812.45 37671.04\n",
      "296 842496.56 35143.89\n",
      "297 845180.67 32606.21\n",
      "298 847864.78 30057.96\n",
      "299 850548.89 27499.09\n",
      "300 853233.0 24929.56\n",
      "301 855917.11 22349.32\n",
      "302 858601.22 19758.34\n",
      "303 861285.33 17156.55\n",
      "304 863969.44 14543.93\n",
      "305 866653.55 11920.42\n",
      "306 869337.66 9285.98\n",
      "307 872021.77 6640.56\n",
      "308 874705.88 3984.12\n",
      "309 877389.99 1316.61\n",
      "309 878706.6 0.0\n",
      "Total pagado: $878706.6 en 309 meses\n"
     ]
    }
   ],
   "source": [
    "saldo = 500000.0\n",
    "tasa = 0.05\n",
    "pago_mensual = 2684.11\n",
    "total_pagado = 0.0\n",
    "pago_extra_mes_comienzo = 61\n",
    "pago_extra_mes_fin = 108\n",
    "pago_extra = 1000\n",
    "mes = 0\n",
    "\n",
    "while saldo > pago_mensual:\n",
    "    if mes >= pago_extra_mes_comienzo and  mes <= pago_extra_mes_fin:\n",
    "        saldo = saldo * (1+tasa/12) - (pago_mensual + pago_extra)\n",
    "        total_pagado = total_pagado + pago_mensual + pago_extra\n",
    "    else:\n",
    "        saldo = saldo * (1+tasa/12) - pago_mensual\n",
    "        total_pagado = total_pagado + pago_mensual\n",
    "    mes = mes + 1\n",
    "    print(mes, round(total_pagado, 2), round(saldo, 2))\n",
    "    \n",
    "\n",
    "if  saldo <= pago_mensual:\n",
    "    pago_mensual = saldo\n",
    "    saldo = saldo - pago_mensual\n",
    "    total_pagado = total_pagado + pago_mensual\n",
    "    print(mes, round(total_pagado, 2), round(saldo, 2))\n",
    "\n",
    "print(f\"Total pagado: ${round(total_pagado, 2)} en {mes} meses\")\n"
   ]
  },
  {
   "cell_type": "markdown",
   "metadata": {},
   "source": [
    "#### Ejercicio 1.12: Un misterio\n",
    "Explicar el siguiente comportamiento:"
   ]
  },
  {
   "cell_type": "code",
   "execution_count": 48,
   "metadata": {},
   "outputs": [
    {
     "data": {
      "text/plain": [
       "True"
      ]
     },
     "execution_count": 48,
     "metadata": {},
     "output_type": "execute_result"
    }
   ],
   "source": [
    "bool(\"False\")"
   ]
  },
  {
   "cell_type": "markdown",
   "metadata": {},
   "source": [
    "Estamos pasando el string \"False\", no el valor False. Por ende, al ser un valor, es True."
   ]
  },
  {
   "cell_type": "markdown",
   "metadata": {},
   "source": [
    "#### Ejercicio 1.13: El volúmen de una esfera\n",
    "En tu directorio de trabajo, escribí un programa llamado esfera.py que le pida al usuario que ingrese por teclado el radio r de una esfera y calcule e imprima el volumen de la misma. Sugerencia: recordar que el volúmen de una esfera es 4/3 πr^3.\n",
    "\n",
    "Finalmente, ejecutá el programa desde la línea de comandos para responder ¿cuál es el volumen de una esfera de radio 6? Debería darte 904.7786842338603."
   ]
  },
  {
   "cell_type": "code",
   "execution_count": 15,
   "metadata": {},
   "outputs": [
    {
     "name": "stdout",
     "output_type": "stream",
     "text": [
      "Ingrese el radio de una esfera: 6\n",
      "El volumen de la esfera es: 904.7786842338603\n"
     ]
    }
   ],
   "source": [
    "from math import pi\n",
    "\n",
    "r = float(input(\"Ingrese el radio de una esfera: \"))\n",
    "volumen = 4/3 * pi * r ** 3\n",
    "\n",
    "print(\"El volumen de la esfera es:\", volumen)"
   ]
  },
  {
   "cell_type": "markdown",
   "metadata": {},
   "source": [
    "## 1.4 Cadenas"
   ]
  },
  {
   "cell_type": "code",
   "execution_count": 5,
   "metadata": {},
   "outputs": [],
   "source": [
    "#slice\n",
    "a = 'Hello world'\n",
    "d = a[:5]     # 'Hello'\n",
    "e = a[6:]     # 'world'\n",
    "f = a[3:8]    # 'lo wo'\n",
    "g = a[-5:]    # 'world'"
   ]
  },
  {
   "cell_type": "code",
   "execution_count": 13,
   "metadata": {},
   "outputs": [
    {
     "data": {
      "text/plain": [
       "'world'"
      ]
     },
     "execution_count": 13,
     "metadata": {},
     "output_type": "execute_result"
    }
   ],
   "source": [
    "a[-5:]"
   ]
  },
  {
   "cell_type": "code",
   "execution_count": 23,
   "metadata": {},
   "outputs": [],
   "source": [
    " frutas = 'Manzana,Naranja,Mandarina,Banana,Kiwi'"
   ]
  },
  {
   "cell_type": "code",
   "execution_count": 16,
   "metadata": {},
   "outputs": [
    {
     "data": {
      "text/plain": [
       "'M'"
      ]
     },
     "execution_count": 16,
     "metadata": {},
     "output_type": "execute_result"
    }
   ],
   "source": [
    "frutas[0]"
   ]
  },
  {
   "cell_type": "code",
   "execution_count": 17,
   "metadata": {},
   "outputs": [
    {
     "data": {
      "text/plain": [
       "'i'"
      ]
     },
     "execution_count": 17,
     "metadata": {},
     "output_type": "execute_result"
    }
   ],
   "source": [
    "frutas[-1]"
   ]
  },
  {
   "cell_type": "code",
   "execution_count": 18,
   "metadata": {},
   "outputs": [
    {
     "ename": "TypeError",
     "evalue": "'str' object does not support item assignment",
     "output_type": "error",
     "traceback": [
      "\u001b[1;31m---------------------------------------------------------------------------\u001b[0m",
      "\u001b[1;31mTypeError\u001b[0m                                 Traceback (most recent call last)",
      "\u001b[1;32m<ipython-input-18-b525f151e8bd>\u001b[0m in \u001b[0;36m<module>\u001b[1;34m\u001b[0m\n\u001b[1;32m----> 1\u001b[1;33m \u001b[0mfrutas\u001b[0m\u001b[1;33m[\u001b[0m\u001b[1;36m0\u001b[0m\u001b[1;33m]\u001b[0m \u001b[1;33m=\u001b[0m \u001b[1;34m'm'\u001b[0m\u001b[1;33m\u001b[0m\u001b[1;33m\u001b[0m\u001b[0m\n\u001b[0m",
      "\u001b[1;31mTypeError\u001b[0m: 'str' object does not support item assignment"
     ]
    }
   ],
   "source": [
    "frutas[0] = 'm' # Los strings son solo de lectura"
   ]
  },
  {
   "cell_type": "code",
   "execution_count": 24,
   "metadata": {},
   "outputs": [
    {
     "data": {
      "text/plain": [
       "'Manzana,Naranja,Mandarina,Banana,Kiwi,Pera'"
      ]
     },
     "execution_count": 24,
     "metadata": {},
     "output_type": "execute_result"
    }
   ],
   "source": [
    "frutas = frutas + ',Pera'\n",
    "frutas"
   ]
  },
  {
   "cell_type": "code",
   "execution_count": 26,
   "metadata": {},
   "outputs": [
    {
     "data": {
      "text/plain": [
       "'Melón,Melón,Manzana,Naranja,Mandarina,Banana,Kiwi,Pera'"
      ]
     },
     "execution_count": 26,
     "metadata": {},
     "output_type": "execute_result"
    }
   ],
   "source": [
    "frutas = 'Melón,'+frutas\n",
    "frutas"
   ]
  },
  {
   "cell_type": "code",
   "execution_count": 27,
   "metadata": {},
   "outputs": [
    {
     "data": {
      "text/plain": [
       "True"
      ]
     },
     "execution_count": 27,
     "metadata": {},
     "output_type": "execute_result"
    }
   ],
   "source": [
    "'Naranja' in frutas"
   ]
  },
  {
   "cell_type": "code",
   "execution_count": 28,
   "metadata": {},
   "outputs": [
    {
     "data": {
      "text/plain": [
       "True"
      ]
     },
     "execution_count": 28,
     "metadata": {},
     "output_type": "execute_result"
    }
   ],
   "source": [
    "'nana' in frutas"
   ]
  },
  {
   "cell_type": "code",
   "execution_count": 29,
   "metadata": {},
   "outputs": [
    {
     "data": {
      "text/plain": [
       "False"
      ]
     },
     "execution_count": 29,
     "metadata": {},
     "output_type": "execute_result"
    }
   ],
   "source": [
    "'Lima' in frutas"
   ]
  },
  {
   "cell_type": "markdown",
   "metadata": {},
   "source": [
    "#### Ejercicio 1.17: Iteración sobre cadenas"
   ]
  },
  {
   "cell_type": "code",
   "execution_count": 30,
   "metadata": {},
   "outputs": [
    {
     "name": "stdout",
     "output_type": "stream",
     "text": [
      "catacter: E\n",
      "catacter: j\n",
      "catacter: e\n",
      "catacter: m\n",
      "catacter: p\n",
      "catacter: l\n",
      "catacter: o\n",
      "catacter:  \n",
      "catacter: c\n",
      "catacter: o\n",
      "catacter: n\n",
      "catacter:  \n",
      "catacter: f\n",
      "catacter: o\n",
      "catacter: r\n"
     ]
    }
   ],
   "source": [
    "cadena = 'Ejemplo con for'\n",
    "\n",
    "for c in cadena:\n",
    "    print('catacter:', c)"
   ]
  },
  {
   "cell_type": "markdown",
   "metadata": {},
   "source": [
    "Modificá el código anterior de manera que dentro del ciclo el programa cuente cuántas letras \"o\" hay en la cadena."
   ]
  },
  {
   "cell_type": "code",
   "execution_count": 39,
   "metadata": {},
   "outputs": [
    {
     "name": "stdout",
     "output_type": "stream",
     "text": [
      "Hay 3 letras \"o\"\n"
     ]
    }
   ],
   "source": [
    "cadena = 'Ejemplo con for'\n",
    "contador = 0\n",
    "\n",
    "for c in cadena:\n",
    "    if 'o' in c:\n",
    "        contador = contador + 1\n",
    "\n",
    "print('Hay', contador, 'letras \"o\"')  "
   ]
  },
  {
   "cell_type": "code",
   "execution_count": null,
   "metadata": {},
   "outputs": [],
   "source": [
    "#### Ejercicio 1.18: Geringoso rústico"
   ]
  },
  {
   "cell_type": "code",
   "execution_count": 108,
   "metadata": {},
   "outputs": [
    {
     "name": "stdout",
     "output_type": "stream",
     "text": [
      "Geperipingoposopo"
     ]
    }
   ],
   "source": [
    "#cadena = 'Geringoso'\n",
    "cadena = 'Geringoso'\n",
    "capadepenapa = ''\n",
    "vocales = \"aeiou\"\n",
    "\n",
    "for c in cadena: \n",
    "    for vocal in vocales:\n",
    "        if c == vocal:\n",
    "            c = c.replace(vocal, vocal + 'p' + vocal)\n",
    "    capadepenapa = capadepenapa + c\n",
    "    print(c, end='')\n",
    "  "
   ]
  },
  {
   "cell_type": "code",
   "execution_count": 109,
   "metadata": {},
   "outputs": [
    {
     "data": {
      "text/plain": [
       "'melón,melón,manzana,naranja,mandarina,banana,kiwi,pera'"
      ]
     },
     "execution_count": 109,
     "metadata": {},
     "output_type": "execute_result"
    }
   ],
   "source": [
    "frutas.lower()"
   ]
  },
  {
   "cell_type": "code",
   "execution_count": 110,
   "metadata": {},
   "outputs": [
    {
     "data": {
      "text/plain": [
       "'Melón,Melón,Manzana,Naranja,Mandarina,Banana,Kiwi,Pera'"
      ]
     },
     "execution_count": 110,
     "metadata": {},
     "output_type": "execute_result"
    }
   ],
   "source": [
    "frutas"
   ]
  },
  {
   "cell_type": "code",
   "execution_count": 111,
   "metadata": {},
   "outputs": [
    {
     "data": {
      "text/plain": [
       "28"
      ]
     },
     "execution_count": 111,
     "metadata": {},
     "output_type": "execute_result"
    }
   ],
   "source": [
    "frutas.find('Mandarina')"
   ]
  },
  {
   "cell_type": "code",
   "execution_count": 112,
   "metadata": {},
   "outputs": [
    {
     "data": {
      "text/plain": [
       "'anza'"
      ]
     },
     "execution_count": 112,
     "metadata": {},
     "output_type": "execute_result"
    }
   ],
   "source": [
    "frutas[13:17]"
   ]
  },
  {
   "cell_type": "code",
   "execution_count": 114,
   "metadata": {},
   "outputs": [
    {
     "data": {
      "text/plain": [
       "'   Naranja   \\n'"
      ]
     },
     "execution_count": 114,
     "metadata": {},
     "output_type": "execute_result"
    }
   ],
   "source": [
    "nombre = '   Naranja   \\n'\n",
    "nombre"
   ]
  },
  {
   "cell_type": "code",
   "execution_count": 116,
   "metadata": {},
   "outputs": [
    {
     "data": {
      "text/plain": [
       "'Naranja'"
      ]
     },
     "execution_count": 116,
     "metadata": {},
     "output_type": "execute_result"
    }
   ],
   "source": [
    "nombre = nombre.strip()\n",
    "nombre"
   ]
  },
  {
   "cell_type": "markdown",
   "metadata": {},
   "source": [
    "#### Ejercicio 1.20: f-strings\n",
    "Modificá el programa hipoteca.py del Ejercicio 1.11 de la sección anterior para que escriba su salida usando f-strings. Tratá de hacer que la salida quede bien alineada."
   ]
  },
  {
   "cell_type": "code",
   "execution_count": null,
   "metadata": {},
   "outputs": [],
   "source": []
  },
  {
   "cell_type": "markdown",
   "metadata": {},
   "source": [
    "#### Ejercicio 1.29: Traductor (rústico) al lenguaje inclusivo\n",
    "Queremos hacer un traductor que cambie las palabras masculinas de una frase por su versión neutra. Como primera aproximación, completá el siguiente código para reemplazar todas las letras 'o' que figuren en el último o anteúltimo caracter de cada palabra por una 'e'. Por ejemplo 'todos somos programadores' pasaría a ser 'todes somes programdores'. Guardá tu código en el archivo inclusive.py"
   ]
  },
  {
   "cell_type": "code",
   "execution_count": 55,
   "metadata": {},
   "outputs": [
    {
     "name": "stdout",
     "output_type": "stream",
     "text": [
      "['todes', 'somos', 'programadores', 'y', 'cientifico']\n",
      "todes somes programadores y cientifice \n"
     ]
    }
   ],
   "source": [
    "frase = 'todes somos programadores y cientifico'\n",
    "palabras = frase.split()\n",
    "index1 = -1\n",
    "index2 = -2\n",
    "frase_t = ''\n",
    "    \n",
    "for palabra in palabras:\n",
    "    if len(palabra) >= 2:\n",
    "        if palabra[index1] == 'o':\n",
    "            palabra = palabra[:index1] + 'e' \n",
    "            pass\n",
    "        elif palabra[index2] == 'o' :\n",
    "            palabra = palabra[:index2] + 'e' + palabra[index2+1:]  \n",
    "        else:\n",
    "            pass\n",
    "    frase_t += palabra + ' '\n",
    "    \n",
    "print(frase_t)\n"
   ]
  },
  {
   "cell_type": "code",
   "execution_count": null,
   "metadata": {},
   "outputs": [],
   "source": []
  }
 ],
 "metadata": {
  "kernelspec": {
   "display_name": "Python 3.7.6 64-bit ('base': conda)",
   "language": "python",
   "name": "python37664bitbasecondab80094cdf1ac4a85959b2861f853e4e0"
  },
  "language_info": {
   "codemirror_mode": {
    "name": "ipython",
    "version": 3
   },
   "file_extension": ".py",
   "mimetype": "text/x-python",
   "name": "python",
   "nbconvert_exporter": "python",
   "pygments_lexer": "ipython3",
   "version": "3.7.6"
  }
 },
 "nbformat": 4,
 "nbformat_minor": 4
}
