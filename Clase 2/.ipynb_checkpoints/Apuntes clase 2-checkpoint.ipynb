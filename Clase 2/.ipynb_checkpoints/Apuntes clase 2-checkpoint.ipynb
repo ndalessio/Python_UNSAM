{
 "cells": [
  {
   "cell_type": "markdown",
   "metadata": {},
   "source": [
    "## Ejercicios\n",
    "Estos ejercicios usan el archivo Data/camion.csv. El archivo contiene una lista de líneas con información sobre los cajones de fruta cargados en un camion.\n",
    "\n",
    "### Ejercicio 2.1: Preliminares sobre lectura de archivos\n",
    "Primero, tratá de leer el archivo entero de una en una larga cadena:"
   ]
  },
  {
   "cell_type": "code",
   "execution_count": 21,
   "metadata": {},
   "outputs": [],
   "source": [
    "with open('../Data/camion.csv', 'rt') as f:\n",
    "    data = f.read()"
   ]
  },
  {
   "cell_type": "code",
   "execution_count": 22,
   "metadata": {},
   "outputs": [
    {
     "data": {
      "text/plain": [
       "'nombre,cajones,precio\\nLima,100,32.2\\nNaranja,50,91.1\\nCaqui,150,103.44\\nMandarina,200,51.23\\nDurazno,95,40.37\\nMandarina,50,65.1\\nNaranja,100,70.44\\n'"
      ]
     },
     "execution_count": 22,
     "metadata": {},
     "output_type": "execute_result"
    }
   ],
   "source": [
    "data"
   ]
  },
  {
   "cell_type": "code",
   "execution_count": 23,
   "metadata": {},
   "outputs": [
    {
     "name": "stdout",
     "output_type": "stream",
     "text": [
      "nombre,cajones,precio\n",
      "Lima,100,32.2\n",
      "Naranja,50,91.1\n",
      "Caqui,150,103.44\n",
      "Mandarina,200,51.23\n",
      "Durazno,95,40.37\n",
      "Mandarina,50,65.1\n",
      "Naranja,100,70.44\n",
      "\n"
     ]
    }
   ],
   "source": [
    "print(data)"
   ]
  },
  {
   "cell_type": "code",
   "execution_count": null,
   "metadata": {},
   "outputs": [],
   "source": [
    "Para leer un archivo línea por línea:"
   ]
  },
  {
   "cell_type": "code",
   "execution_count": 25,
   "metadata": {},
   "outputs": [
    {
     "name": "stdout",
     "output_type": "stream",
     "text": [
      "nombre,cajones,precio\n",
      "Lima,100,32.2\n",
      "Naranja,50,91.1\n",
      "Caqui,150,103.44\n",
      "Mandarina,200,51.23\n",
      "Durazno,95,40.37\n",
      "Mandarina,50,65.1\n",
      "Naranja,100,70.44\n"
     ]
    }
   ],
   "source": [
    "with open('../Data/camion.csv', 'rt') as f:\n",
    "    for line in f:\n",
    "        print(line, end='')"
   ]
  },
  {
   "cell_type": "code",
   "execution_count": 37,
   "metadata": {},
   "outputs": [
    {
     "data": {
      "text/plain": [
       "['nombre', 'cajones', 'precio\\n']"
      ]
     },
     "execution_count": 37,
     "metadata": {},
     "output_type": "execute_result"
    }
   ],
   "source": [
    "f = open('../Data/camion.csv', 'rt')\n",
    "header = next(f).split(',')\n",
    "header"
   ]
  },
  {
   "cell_type": "code",
   "execution_count": 38,
   "metadata": {},
   "outputs": [
    {
     "name": "stdout",
     "output_type": "stream",
     "text": [
      "['Lima', '100', '32.2\\n']\n",
      "['Naranja', '50', '91.1\\n']\n",
      "['Caqui', '150', '103.44\\n']\n",
      "['Mandarina', '200', '51.23\\n']\n",
      "['Durazno', '95', '40.37\\n']\n",
      "['Mandarina', '50', '65.1\\n']\n",
      "['Naranja', '100', '70.44\\n']\n"
     ]
    }
   ],
   "source": [
    "for line in f:\n",
    "    row = line.split(',')\n",
    "    print(row)"
   ]
  },
  {
   "cell_type": "code",
   "execution_count": 39,
   "metadata": {},
   "outputs": [],
   "source": [
    "f.close()"
   ]
  },
  {
   "cell_type": "markdown",
   "metadata": {},
   "source": [
    "### Ejercicio 2.2: Lectura de un archivo de datos\n",
    "Escribí un programa llamado costo_camion.py que abra el archivo, lea las líneas, y calcule el precio pagado por los cajones cargados en el camión.\n",
    "Tu programa debería imprimir algo como:\n",
    "Costo total 47671.15"
   ]
  },
  {
   "cell_type": "code",
   "execution_count": 13,
   "metadata": {},
   "outputs": [
    {
     "name": "stdout",
     "output_type": "stream",
     "text": [
      "Costo total: 47671.15\n"
     ]
    }
   ],
   "source": [
    "f = open('../Data/camion.csv', 'rt')\n",
    "header = next(f).split(',')\n",
    "total = 0\n",
    "\n",
    "for line in f:\n",
    "    row = line.split(',')\n",
    "    row[2] = row[2].strip()\n",
    "    #print(row)\n",
    "    total += int(row[1]) * float(row[2])\n",
    "    \n",
    "print(\"Costo total:\", total)\n",
    "f.close()"
   ]
  },
  {
   "cell_type": "markdown",
   "metadata": {},
   "source": [
    "### Ejercicio 2.3: Archivos comprimidos"
   ]
  },
  {
   "cell_type": "code",
   "execution_count": 121,
   "metadata": {},
   "outputs": [
    {
     "name": "stdout",
     "output_type": "stream",
     "text": [
      "nombre,cajones,precio\n",
      "Lima,100,32.2\n",
      "Naranja,50,91.1\n",
      "Caqui,150,103.44\n",
      "Mandarina,200,51.23\n",
      "Durazno,95,40.37\n",
      "Mandarina,50,65.1\n",
      "Naranja,100,70.44\n"
     ]
    }
   ],
   "source": [
    "import gzip\n",
    "\n",
    "with gzip.open(\"../Data/camion.csv.gz\", 'rt') as f:\n",
    "    for line in f:\n",
    "        print(line, end='')"
   ]
  },
  {
   "cell_type": "markdown",
   "metadata": {},
   "source": [
    "## 2.2 Funciones"
   ]
  },
  {
   "cell_type": "code",
   "execution_count": null,
   "metadata": {},
   "outputs": [],
   "source": [
    "numero_valido=False\n",
    "while not numero_valido:\n",
    "    try:\n",
    "        a = input('Ingresá un número entero: ')\n",
    "        n = int(a)\n",
    "        numero_valido = True\n",
    "    except:\n",
    "        print('No es válido. Intentá de nuevo.')\n",
    "print(f'Ingresaste {n}.')"
   ]
  },
  {
   "cell_type": "markdown",
   "metadata": {},
   "source": [
    "### Ejercicio 2.4: Definir una función\n",
    "Probá primero definir una función simple:"
   ]
  },
  {
   "cell_type": "code",
   "execution_count": 2,
   "metadata": {},
   "outputs": [],
   "source": [
    "def saludar(nombre):\n",
    "    \"La primera instruccion sirve como documentacion\"\n",
    "    print(\"Hola\", nombre)"
   ]
  },
  {
   "cell_type": "code",
   "execution_count": 3,
   "metadata": {},
   "outputs": [
    {
     "name": "stdout",
     "output_type": "stream",
     "text": [
      "Hola Noeli\n"
     ]
    }
   ],
   "source": [
    "saludar(\"Noeli\")"
   ]
  },
  {
   "cell_type": "code",
   "execution_count": 4,
   "metadata": {},
   "outputs": [
    {
     "name": "stdout",
     "output_type": "stream",
     "text": [
      "Help on function saludar in module __main__:\n",
      "\n",
      "saludar(nombre)\n",
      "    La primera instruccion sirve como documentacion\n",
      "\n"
     ]
    }
   ],
   "source": [
    "help(saludar)"
   ]
  },
  {
   "cell_type": "markdown",
   "metadata": {},
   "source": [
    "### Ejercicio 2.5: Transformar un script en una función\n",
    "Transformá el programa costo_camion.py (que escribiste en el Ejercicio 2.2 de la sección anterior) en una función costo_camion(nombre_archivo)."
   ]
  },
  {
   "cell_type": "code",
   "execution_count": 18,
   "metadata": {},
   "outputs": [],
   "source": [
    "import csv\n",
    "\n",
    "def costo_camion(nombre_archivo):\n",
    "    '''Computa el precio total del camion (cajones*precio) de un archivo'''\n",
    "    total = 0.0\n",
    "\n",
    "    with open(nombre_archivo, 'rt') as f:\n",
    "        rows = csv.reader(f)\n",
    "        headers = next(rows)\n",
    "        for row in rows:\n",
    "            ncajones = int(row[1])\n",
    "            precio = float(row[2])\n",
    "            total += ncajones * precio\n",
    "    return total"
   ]
  },
  {
   "cell_type": "markdown",
   "metadata": {},
   "source": [
    "Usando este código como guía, creá un nuevo archivo informe.py. En este archivo, definí una función leer_camion(nombre_archivo) que abre un archivo con el contenido de un camión, lo lee y devuelve la información como una lista de tuplas. Para hacerlo vas a tener que hacer algunas modificaciones menores al código de arriba."
   ]
  },
  {
   "cell_type": "markdown",
   "metadata": {},
   "source": [
    "### Ejercicio 2.6: Administración de errores"
   ]
  },
  {
   "cell_type": "code",
   "execution_count": 3,
   "metadata": {},
   "outputs": [
    {
     "name": "stdout",
     "output_type": "stream",
     "text": [
      "ingresá tu edad Noeli: -2\n"
     ]
    },
    {
     "ename": "ValueError",
     "evalue": "La edad no puede ser negativa.",
     "output_type": "error",
     "traceback": [
      "\u001b[1;31m---------------------------------------------------------------------------\u001b[0m",
      "\u001b[1;31mValueError\u001b[0m                                Traceback (most recent call last)",
      "\u001b[1;32m<ipython-input-3-030c2e01a8e8>\u001b[0m in \u001b[0;36m<module>\u001b[1;34m\u001b[0m\n\u001b[0;32m      5\u001b[0m     \u001b[1;32mreturn\u001b[0m \u001b[0medad\u001b[0m\u001b[1;33m\u001b[0m\u001b[1;33m\u001b[0m\u001b[0m\n\u001b[0;32m      6\u001b[0m \u001b[1;33m\u001b[0m\u001b[0m\n\u001b[1;32m----> 7\u001b[1;33m \u001b[0mpreguntar_edad\u001b[0m\u001b[1;33m(\u001b[0m\u001b[1;34m\"Noeli\"\u001b[0m\u001b[1;33m)\u001b[0m\u001b[1;33m\u001b[0m\u001b[1;33m\u001b[0m\u001b[0m\n\u001b[0m",
      "\u001b[1;32m<ipython-input-3-030c2e01a8e8>\u001b[0m in \u001b[0;36mpreguntar_edad\u001b[1;34m(nombre)\u001b[0m\n\u001b[0;32m      2\u001b[0m     \u001b[0medad\u001b[0m \u001b[1;33m=\u001b[0m \u001b[0mint\u001b[0m\u001b[1;33m(\u001b[0m\u001b[0minput\u001b[0m\u001b[1;33m(\u001b[0m\u001b[1;34mf'ingresá tu edad {nombre}: '\u001b[0m\u001b[1;33m)\u001b[0m\u001b[1;33m)\u001b[0m\u001b[1;33m\u001b[0m\u001b[1;33m\u001b[0m\u001b[0m\n\u001b[0;32m      3\u001b[0m     \u001b[1;32mif\u001b[0m \u001b[0medad\u001b[0m\u001b[1;33m<\u001b[0m\u001b[1;36m0\u001b[0m\u001b[1;33m:\u001b[0m\u001b[1;33m\u001b[0m\u001b[1;33m\u001b[0m\u001b[0m\n\u001b[1;32m----> 4\u001b[1;33m         \u001b[1;32mraise\u001b[0m \u001b[0mValueError\u001b[0m\u001b[1;33m(\u001b[0m\u001b[1;34m'La edad no puede ser negativa.'\u001b[0m\u001b[1;33m)\u001b[0m\u001b[1;33m\u001b[0m\u001b[1;33m\u001b[0m\u001b[0m\n\u001b[0m\u001b[0;32m      5\u001b[0m     \u001b[1;32mreturn\u001b[0m \u001b[0medad\u001b[0m\u001b[1;33m\u001b[0m\u001b[1;33m\u001b[0m\u001b[0m\n\u001b[0;32m      6\u001b[0m \u001b[1;33m\u001b[0m\u001b[0m\n",
      "\u001b[1;31mValueError\u001b[0m: La edad no puede ser negativa."
     ]
    }
   ],
   "source": [
    "def preguntar_edad(nombre):\n",
    "    edad = int(input(f'ingresá tu edad {nombre}: '))\n",
    "    if edad<0:\n",
    "        raise ValueError('La edad no puede ser negativa.')\n",
    "    return edad\n",
    "\n",
    "preguntar_edad(\"Noeli\")"
   ]
  },
  {
   "cell_type": "code",
   "execution_count": 4,
   "metadata": {},
   "outputs": [
    {
     "name": "stdout",
     "output_type": "stream",
     "text": [
      "ingresá tu edad Pedro: 12\n",
      "Pedro tiene 12 años.\n",
      "ingresá tu edad Juan: -5\n",
      "Juan no ingesó una edad válida.\n",
      "ingresá tu edad Caballero: ocho\n",
      "Caballero no ingesó una edad válida.\n"
     ]
    }
   ],
   "source": [
    "for nombre in ['Pedro','Juan','Caballero']:\n",
    "    try:\n",
    "        edad = preguntar_edad(nombre)\n",
    "        print(f'{nombre} tiene {edad} años.')\n",
    "    except ValueError:\n",
    "        print(f'{nombre} no ingesó una edad válida.')"
   ]
  },
  {
   "cell_type": "code",
   "execution_count": null,
   "metadata": {},
   "outputs": [],
   "source": [
    "### Ejercicio 2.6: Administración de errores"
   ]
  },
  {
   "cell_type": "code",
   "execution_count": 6,
   "metadata": {},
   "outputs": [
    {
     "name": "stdout",
     "output_type": "stream",
     "text": [
      "Aquí hubo un error\n",
      "Aquí hubo un error\n",
      "Costo total: 30381.15\n"
     ]
    }
   ],
   "source": [
    "def costo_camion(nombre_archivo):\n",
    "    f = open(nombre_archivo, 'rt')\n",
    "    header = next(f).split(',')\n",
    "    total = 0\n",
    "    \n",
    "    for line in f:\n",
    "        try:\n",
    "            row = line.split(',')\n",
    "            row[2] = row[2].strip()\n",
    "            total += int(row[1]) * float(row[2])\n",
    "        except ValueError:\n",
    "            print('Aquí hubo un error')\n",
    "        \n",
    "    return total\n",
    "    \n",
    "    f.close()\n",
    "\n",
    "costo = costo_camion('../Data/missing.csv')\n",
    "print('Costo total:', costo)"
   ]
  },
  {
   "cell_type": "markdown",
   "metadata": {},
   "source": [
    "### Ejercicio 2.7: Funciones de la biblioteca\n",
    "Python viene con una gran biblioteca estándar de funciones útiles. En este caso el módulo csv podría venirnos muy bien. Podés usarlo cada vez que tengas que leer archivos CSV. Acá va un ejemplo de cómo funciona.\n",
    "\n",
    "Modificá tu programa costo_camion.py para que use el módulo csv para leer los archivos CSV y probalo en un par de los ejemplos anteriores."
   ]
  },
  {
   "cell_type": "code",
   "execution_count": 42,
   "metadata": {},
   "outputs": [
    {
     "name": "stdout",
     "output_type": "stream",
     "text": [
      "Costo total: 47671.15\n"
     ]
    }
   ],
   "source": [
    "import csv\n",
    "\n",
    "def costo_camion(nombre_archivo):\n",
    "    f = open(nombre_archivo)\n",
    "    rows = csv.reader(f)\n",
    "    headers = next(rows)\n",
    "    total = 0\n",
    "    \n",
    "    for row in rows:\n",
    "        total += int(row[1]) * float(row[2])\n",
    "        \n",
    "    return total\n",
    "    #f.close()\n",
    "\n",
    "costo = costo_camion('../Data/camion.csv')\n",
    "print('Costo total:', costo)"
   ]
  },
  {
   "cell_type": "markdown",
   "metadata": {},
   "source": [
    "### Ejercicio 2.8: Ejecución desde la línea de comandos con parámetros\n",
    "\n",
    "Copiá el contenido de costo_camion.py a un nuevo archivo llamado camion_commandline.py que incorpore la lectura de parámetros por línea de comando según la sugerencia del siguiente ejemplo:"
   ]
  },
  {
   "cell_type": "code",
   "execution_count": 41,
   "metadata": {},
   "outputs": [
    {
     "name": "stdout",
     "output_type": "stream",
     "text": [
      "Costo total: 47671.15\n"
     ]
    }
   ],
   "source": [
    "# camion_commandline.py\n",
    "import csv\n",
    "import sys\n",
    "\n",
    "def costo_camion(nombre_archivo):\n",
    "    f = open(nombre_archivo)\n",
    "    rows = csv.reader(f)\n",
    "    headers = next(rows)\n",
    "    total = 0\n",
    "    \n",
    "    for row in rows:\n",
    "        total += int(row[1]) * float(row[2])\n",
    "        \n",
    "    return total\n",
    "\n",
    "    \n",
    "if len(sys.argv) == 2:\n",
    "    nombre_archivo = sys.argv[1]\n",
    "else:\n",
    "    nombre_archivo = '../Data/camion.csv'\n",
    "\n",
    "    \n",
    "costo = costo_camion(nombre_archivo)\n",
    "print('Costo total:', costo)"
   ]
  },
  {
   "cell_type": "markdown",
   "metadata": {},
   "source": [
    "sys.argv es una lista que contiene los argumentos que le pasamos al script al momento de llamarlo desde la línea de comandos (si es que le pasamos alguno). Por ejemplo, desde una terminal de Unix (en Windows es similar), para correr nuestro programa y que procese el mismo archivo podríamos escribir:"
   ]
  },
  {
   "cell_type": "markdown",
   "metadata": {},
   "source": [
    "Trabajá en el archivo ejercicios_python/informe.py.\n",
    "\n",
    "### Ejercicio 2.12: Lista de tuplas\n",
    "\n",
    "El archivo Data/camion.csv contiene la lista de cajones cargados en un camión. En el Ejercicio 2.5 de la sección anterior escribiste una función costo_camion(nombre_archivo) que leía el archivo y realizaba un cálculo.\n",
    "\n",
    "Usando este código como guía, creá un nuevo archivo informe.py. En este archivo, definí una función leer_camion(nombre_archivo) que abre un archivo con el contenido de un camión, lo lee y devuelve la información como una lista de tuplas. Para hacerlo vas a tener que hacer algunas modificaciones menores al código de arriba."
   ]
  },
  {
   "cell_type": "code",
   "execution_count": 46,
   "metadata": {},
   "outputs": [
    {
     "data": {
      "text/plain": [
       "[('Lima', 100, 32.2),\n",
       " ('Naranja', 50, 91.1),\n",
       " ('Caqui', 150, 103.44),\n",
       " ('Mandarina', 200, 51.23),\n",
       " ('Durazno', 95, 40.37),\n",
       " ('Mandarina', 50, 65.1),\n",
       " ('Naranja', 100, 70.44)]"
      ]
     },
     "execution_count": 46,
     "metadata": {},
     "output_type": "execute_result"
    }
   ],
   "source": [
    "#informe.py\n",
    "\n",
    "import csv\n",
    "\n",
    "def leer_camion(nombre_archivo):\n",
    "    camion = []\n",
    "    \n",
    "    with open(nombre_archivo, 'rt') as f:\n",
    "        rows = csv.reader(f)\n",
    "        headers = next(rows)\n",
    "        \n",
    "        for row in rows:\n",
    "            lote = (row[0], int(row[1]), float(row[2]))\n",
    "            camion.append(lote)\n",
    "        \n",
    "    return camion\n",
    "    \n",
    "\n",
    "camion = leer_camion('../Data/camion.csv')\n",
    "camion"
   ]
  },
  {
   "cell_type": "code",
   "execution_count": 49,
   "metadata": {},
   "outputs": [
    {
     "name": "stdout",
     "output_type": "stream",
     "text": [
      "47671.15\n"
     ]
    }
   ],
   "source": [
    "total = 0.0\n",
    "for s in camion:\n",
    "    total += s[1] * s[2]\n",
    "    \n",
    "print(total)"
   ]
  },
  {
   "cell_type": "code",
   "execution_count": 51,
   "metadata": {},
   "outputs": [
    {
     "name": "stdout",
     "output_type": "stream",
     "text": [
      "47671.15\n"
     ]
    }
   ],
   "source": [
    "total = 0.0\n",
    "for nombre, cajones, precio in camion:\n",
    "    total += cajones * precio\n",
    "    \n",
    "print(total)"
   ]
  },
  {
   "cell_type": "markdown",
   "metadata": {},
   "source": [
    "### Ejercicio 2.13: Lista de diccionarios\n",
    "Tomá la función que escribiste en el ejercicio anterior y modificala para representar cada cajón del camión con un diccionario en vez de una tupla. En este diccionario usá los campos \"nombre\", \"cajones\" y \"precio\" para representar las diferentes columnas del archivo de entrada.\n"
   ]
  },
  {
   "cell_type": "code",
   "execution_count": 252,
   "metadata": {},
   "outputs": [
    {
     "data": {
      "text/plain": [
       "[{'nombre': 'Lima', 'cajones': 100, 'precio': 32.2},\n",
       " {'nombre': 'Naranja', 'cajones': 50, 'precio': 91.1},\n",
       " {'nombre': 'Caqui', 'cajones': 150, 'precio': 103.44},\n",
       " {'nombre': 'Mandarina', 'cajones': 200, 'precio': 51.23},\n",
       " {'nombre': 'Durazno', 'cajones': 95, 'precio': 40.37},\n",
       " {'nombre': 'Mandarina', 'cajones': 50, 'precio': 65.1},\n",
       " {'nombre': 'Naranja', 'cajones': 100, 'precio': 70.44}]"
      ]
     },
     "execution_count": 252,
     "metadata": {},
     "output_type": "execute_result"
    }
   ],
   "source": [
    "#informe.py\n",
    "\n",
    "import csv\n",
    "\n",
    "lista = []\n",
    "\n",
    "def leer_camion(nombre_archivo):\n",
    "    with open(nombre_archivo, 'rt') as f:\n",
    "        rows = csv.reader(f)\n",
    "        header = next(rows)\n",
    "        \n",
    "        for row in rows:\n",
    "            camion = {}\n",
    "            camion[header[0]] = row[0]\n",
    "            camion[header[1]] = int(row[1])\n",
    "            camion[header[2]] = float(row[2])\n",
    "            lista.append(camion)\n",
    "        \n",
    "    return lista\n",
    "\n",
    "camion = leer_camion('../Data/camion.csv')\n",
    "camion"
   ]
  },
  {
   "cell_type": "code",
   "execution_count": 256,
   "metadata": {},
   "outputs": [
    {
     "name": "stdout",
     "output_type": "stream",
     "text": [
      "[{'cajones': 100, 'nombre': 'Lima', 'precio': 32.2},\n",
      " {'cajones': 50, 'nombre': 'Naranja', 'precio': 91.1},\n",
      " {'cajones': 150, 'nombre': 'Caqui', 'precio': 103.44},\n",
      " {'cajones': 200, 'nombre': 'Mandarina', 'precio': 51.23},\n",
      " {'cajones': 95, 'nombre': 'Durazno', 'precio': 40.37},\n",
      " {'cajones': 50, 'nombre': 'Mandarina', 'precio': 65.1},\n",
      " {'cajones': 100, 'nombre': 'Naranja', 'precio': 70.44}]\n"
     ]
    }
   ],
   "source": [
    "from pprint import pprint\n",
    "pprint(camion)"
   ]
  },
  {
   "cell_type": "markdown",
   "metadata": {},
   "source": [
    "### Ejercicio 2.14: Diccionarios como contenedores"
   ]
  }
 ],
 "metadata": {
  "kernelspec": {
   "display_name": "Python 3.7.6 64-bit ('base': conda)",
   "language": "python",
   "name": "python37664bitbasecondab80094cdf1ac4a85959b2861f853e4e0"
  },
  "language_info": {
   "codemirror_mode": {
    "name": "ipython",
    "version": 3
   },
   "file_extension": ".py",
   "mimetype": "text/x-python",
   "name": "python",
   "nbconvert_exporter": "python",
   "pygments_lexer": "ipython3",
   "version": "3.7.6"
  }
 },
 "nbformat": 4,
 "nbformat_minor": 4
}
