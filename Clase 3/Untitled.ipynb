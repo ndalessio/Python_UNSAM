{
 "cells": [
  {
   "cell_type": "code",
   "execution_count": 10,
   "metadata": {},
   "outputs": [
    {
     "data": {
      "text/plain": [
       "False"
      ]
     },
     "execution_count": 10,
     "metadata": {},
     "output_type": "execute_result"
    }
   ],
   "source": [
    "def tiene_a(expresion):\n",
    "    n = len(expresion)\n",
    "    i = 0\n",
    "    while i<n:\n",
    "        if expresion[i] == 'a':\n",
    "            return True\n",
    "        else:\n",
    "            return False\n",
    "        i += 1\n",
    "\n",
    "#tiene_a('UNSAM 2020')\n",
    "#tiene_a('abracadabra')\n",
    "tiene_a('La novela 1984 de George Orwell')"
   ]
  },
  {
   "cell_type": "code",
   "execution_count": null,
   "metadata": {},
   "outputs": [],
   "source": []
  }
 ],
 "metadata": {
  "kernelspec": {
   "display_name": "Python 3.7.6 64-bit ('base': conda)",
   "language": "python",
   "name": "python37664bitbasecondab80094cdf1ac4a85959b2861f853e4e0"
  },
  "language_info": {
   "codemirror_mode": {
    "name": "ipython",
    "version": 3
   },
   "file_extension": ".py",
   "mimetype": "text/x-python",
   "name": "python",
   "nbconvert_exporter": "python",
   "pygments_lexer": "ipython3",
   "version": "3.7.6"
  }
 },
 "nbformat": 4,
 "nbformat_minor": 4
}
