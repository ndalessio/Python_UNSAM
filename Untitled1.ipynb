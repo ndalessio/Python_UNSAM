{
 "cells": [
  {
   "cell_type": "code",
   "execution_count": 2,
   "metadata": {},
   "outputs": [
    {
     "data": {
      "text/plain": [
       "{1: [1], 2: [], 3: [3, 3], 4: [], 5: [], 6: [6, 6]}"
      ]
     },
     "execution_count": 2,
     "metadata": {},
     "output_type": "execute_result"
    }
   ],
   "source": [
    "import random\n",
    "\n",
    "#tirada ficticia:\n",
    "lista = [3, 3, 1, 6, 6]\n",
    "\n",
    "# tiro uno\n",
    "def tiro_1():\n",
    "    caras = {1: [], 2: [], 3: [], 4: [], 5: [], 6: []}\n",
    "    for k, v in caras.items():\n",
    "       for i in lista:\n",
    "           if k == i:\n",
    "               caras[k].append(i)\n",
    "    return caras\n",
    "   \n",
    "caras = tiro_1()\n",
    "caras"
   ]
  },
  {
   "cell_type": "code",
   "execution_count": 19,
   "metadata": {},
   "outputs": [
    {
     "name": "stdout",
     "output_type": "stream",
     "text": [
      "Sacaste los siguientes números en esta tirada: [4, 2, 6]\n",
      "<generator object tirar_2.<locals>.<genexpr> at 0x0000026CC974DCC8>\n"
     ]
    }
   ],
   "source": [
    "selec = [6, 6]\n",
    "\n",
    "def tirar_2():\n",
    "    tirada = []\n",
    "    cant_dados = 5 - len(selec)\n",
    "    for i in range(cant_dados):\n",
    "        tirada.append(random.randint(1,6))\n",
    "    print(\"Sacaste los siguientes números en esta tirada:\", tirada)\n",
    "    print()\n",
    "tirar_2()"
   ]
  },
  {
   "cell_type": "code",
   "execution_count": 15,
   "metadata": {},
   "outputs": [
    {
     "ename": "NameError",
     "evalue": "name 'tirada' is not defined",
     "output_type": "error",
     "traceback": [
      "\u001b[1;31m---------------------------------------------------------------------------\u001b[0m",
      "\u001b[1;31mNameError\u001b[0m                                 Traceback (most recent call last)",
      "\u001b[1;32m<ipython-input-15-4f42f550cd01>\u001b[0m in \u001b[0;36m<module>\u001b[1;34m\u001b[0m\n\u001b[1;32m----> 1\u001b[1;33m \u001b[0mtirada\u001b[0m\u001b[1;33m\u001b[0m\u001b[1;33m\u001b[0m\u001b[0m\n\u001b[0m",
      "\u001b[1;31mNameError\u001b[0m: name 'tirada' is not defined"
     ]
    }
   ],
   "source": []
  },
  {
   "cell_type": "code",
   "execution_count": 3,
   "metadata": {},
   "outputs": [
    {
     "ename": "SyntaxError",
     "evalue": "invalid syntax (<ipython-input-3-80252da92cfe>, line 39)",
     "output_type": "error",
     "traceback": [
      "\u001b[1;36m  File \u001b[1;32m\"<ipython-input-3-80252da92cfe>\"\u001b[1;36m, line \u001b[1;32m39\u001b[0m\n\u001b[1;33m    return tantos\u001b[0m\n\u001b[1;37m         ^\u001b[0m\n\u001b[1;31mSyntaxError\u001b[0m\u001b[1;31m:\u001b[0m invalid syntax\n"
     ]
    }
   ],
   "source": [
    "import random\n",
    "\n",
    "def mezclo_y_reparto():\n",
    "    valores = [1, 2, 3, 4, 5, 6, 7, 10, 11, 12]\n",
    "    palos = ['oro', 'copa', 'basto', 'espada']\n",
    "    naipes = [(valor,palo) for valor in valores for palo in palos]\n",
    "    random.shuffle(naipes)\n",
    "    mano = naipes[-3:]\n",
    "    \n",
    "    return mano\n",
    "\n",
    "mano = [(12, 'espada'), (12, 'copa'), (2, 'basto')]\n",
    "\n",
    "def tengo_envido(mano):\n",
    "    print(mano)\n",
    "    tengo = {'oro': [], 'copa': [], 'basto': [], 'espada': []}\n",
    "    tantos = []\n",
    "    valen_0 = [10, 11, 12]\n",
    "    \n",
    "    for carta in mano:\n",
    "        if carta[1] in tengo:\n",
    "            tengo[carta[1]].append(carta[0])\n",
    "            \n",
    "    for juego in tengo:\n",
    "        if len(tengo[juego]) == 2:\n",
    "            if any(valen_0 for x in tengo[juego]):\n",
    "                tengo[juego][tengo[juego].index(10)] = 0\n",
    "                tantos.append(sum(tengo[juego]) + 20)\n",
    "            else:\n",
    "                tantos.append(sum(tengo[juego]) + 20)\n",
    "            \n",
    "        if len(tengo[juego]) == 3:\n",
    "            tantos.append(sum(tengo[juego]) + 20 - min(tengo[juego]))\n",
    "        \n",
    "        if len(tengo[juego]) == 1:\n",
    "            maximo = max(tengo[juego])\n",
    "            tantos.append(stengo[juego])\n",
    "                         \n",
    "    return tantos"
   ]
  },
  {
   "cell_type": "code",
   "execution_count": null,
   "metadata": {},
   "outputs": [],
   "source": []
  }
 ],
 "metadata": {
  "kernelspec": {
   "display_name": "Python 3.7.6 64-bit ('base': conda)",
   "language": "python",
   "name": "python37664bitbasecondab80094cdf1ac4a85959b2861f853e4e0"
  },
  "language_info": {
   "codemirror_mode": {
    "name": "ipython",
    "version": 3
   },
   "file_extension": ".py",
   "mimetype": "text/x-python",
   "name": "python",
   "nbconvert_exporter": "python",
   "pygments_lexer": "ipython3",
   "version": "3.7.6"
  }
 },
 "nbformat": 4,
 "nbformat_minor": 4
}
