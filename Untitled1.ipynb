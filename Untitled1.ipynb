{
 "cells": [
  {
   "cell_type": "code",
   "execution_count": 2,
   "metadata": {},
   "outputs": [
    {
     "data": {
      "text/plain": [
       "{1: [1], 2: [], 3: [3, 3], 4: [], 5: [], 6: [6, 6]}"
      ]
     },
     "execution_count": 2,
     "metadata": {},
     "output_type": "execute_result"
    }
   ],
   "source": [
    "import random\n",
    "\n",
    "#tirada ficticia:\n",
    "lista = [3, 3, 1, 6, 6]\n",
    "\n",
    "# tiro uno\n",
    "def tiro_1():\n",
    "    caras = {1: [], 2: [], 3: [], 4: [], 5: [], 6: []}\n",
    "    for k, v in caras.items():\n",
    "       for i in lista:\n",
    "           if k == i:\n",
    "               caras[k].append(i)\n",
    "    return caras\n",
    "   \n",
    "caras = tiro_1()\n",
    "caras"
   ]
  },
  {
   "cell_type": "code",
   "execution_count": 19,
   "metadata": {},
   "outputs": [
    {
     "name": "stdout",
     "output_type": "stream",
     "text": [
      "Sacaste los siguientes números en esta tirada: [4, 2, 6]\n",
      "<generator object tirar_2.<locals>.<genexpr> at 0x0000026CC974DCC8>\n"
     ]
    }
   ],
   "source": [
    "selec = [6, 6]\n",
    "\n",
    "def tirar_2():\n",
    "    tirada = []\n",
    "    cant_dados = 5 - len(selec)\n",
    "    for i in range(cant_dados):\n",
    "        tirada.append(random.randint(1,6))\n",
    "    print(\"Sacaste los siguientes números en esta tirada:\", tirada)\n",
    "    print()\n",
    "tirar_2()"
   ]
  },
  {
   "cell_type": "code",
   "execution_count": 15,
   "metadata": {},
   "outputs": [
    {
     "ename": "NameError",
     "evalue": "name 'tirada' is not defined",
     "output_type": "error",
     "traceback": [
      "\u001b[1;31m---------------------------------------------------------------------------\u001b[0m",
      "\u001b[1;31mNameError\u001b[0m                                 Traceback (most recent call last)",
      "\u001b[1;32m<ipython-input-15-4f42f550cd01>\u001b[0m in \u001b[0;36m<module>\u001b[1;34m\u001b[0m\n\u001b[1;32m----> 1\u001b[1;33m \u001b[0mtirada\u001b[0m\u001b[1;33m\u001b[0m\u001b[1;33m\u001b[0m\u001b[0m\n\u001b[0m",
      "\u001b[1;31mNameError\u001b[0m: name 'tirada' is not defined"
     ]
    }
   ],
   "source": []
  },
  {
   "cell_type": "code",
   "execution_count": null,
   "metadata": {},
   "outputs": [],
   "source": []
  }
 ],
 "metadata": {
  "kernelspec": {
   "display_name": "Python 3.7.6 64-bit ('base': conda)",
   "language": "python",
   "name": "python37664bitbasecondab80094cdf1ac4a85959b2861f853e4e0"
  },
  "language_info": {
   "codemirror_mode": {
    "name": "ipython",
    "version": 3
   },
   "file_extension": ".py",
   "mimetype": "text/x-python",
   "name": "python",
   "nbconvert_exporter": "python",
   "pygments_lexer": "ipython3",
   "version": "3.7.6"
  }
 },
 "nbformat": 4,
 "nbformat_minor": 4
}
